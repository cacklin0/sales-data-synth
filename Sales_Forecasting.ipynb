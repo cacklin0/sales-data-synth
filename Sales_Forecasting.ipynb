{
 "cells": [
  {
   "cell_type": "markdown",
   "id": "b0455237",
   "metadata": {},
   "source": [
    "# Sales Data Analysis\n",
    "\n",
    "The dataset provided contains synthetically generated sales data for two unique products sold through five different sales channels over a period of several years. The goal of this task is to analyze the sales data, identify patterns and seasonality, and develop forecasting models to predict future sales.\n",
    "\n",
    "### Assumptions:\n",
    "- The dataset includes information about the product, sales channel, date, and quantity sold.\n",
    "- Products are repriced each year, and the competitive landscape for products and channels changes on January 1 of each year, potentially affecting sales patterns.\n",
    "- In the real world, Holidays and other special events may affect sales seasonality, but these event have not been considered when creating this dataset.\n",
    "\n",
    "### Tasks:\n",
    "1. Exploratory Data Analysis (EDA): Perform exploratory data analysis to understand the sales patterns, seasonality, and trends for each product and sales channel. Visualize the data using appropriate charts and graphs to identify any interesting patterns or insights.\n",
    "2. Forecasting: Use appropriate methods of your choosing to forecast future sales for each product and sales channel for the remainder of 2024.\n",
    "3. Visualization: Present your findings and forecasts in a clear and concise manner, using appropriate visualizations and explanations. Discuss the potential business implications of your results.\n"
   ]
  },
  {
   "cell_type": "code",
   "execution_count": 3,
   "id": "df2697a3",
   "metadata": {},
   "outputs": [
    {
     "name": "stdout",
     "output_type": "stream",
     "text": [
      "         Product    Channel  sales_date  sales\n",
      "3847   Product A  Channel 3  2019-01-14    591\n",
      "14098  Product B  Channel 3  2020-11-10   5492\n",
      "11706  Product B  Channel 2  2019-07-24    364\n",
      "14941  Product B  Channel 3  2023-03-03   3245\n",
      "9183   Product A  Channel 5  2023-02-24   5528\n"
     ]
    }
   ],
   "source": [
    "import pandas as pd\n",
    "\n",
    "url = 'https://raw.githubusercontent.com/cacklin0/sales-data-synth/main/TimeSeriesSalesData.csv'\n",
    "df = pd.read_csv(url)\n",
    "print(df.sample(5))"
   ]
  },
  {
   "cell_type": "code",
   "execution_count": 8,
   "id": "2a96692a",
   "metadata": {},
   "outputs": [
    {
     "data": {
      "text/plain": [
       "Product    Channel  \n",
       "Product A  Channel 1    1917\n",
       "           Channel 2    1917\n",
       "           Channel 3    1917\n",
       "           Channel 4    1917\n",
       "           Channel 5    1917\n",
       "Product B  Channel 1    1917\n",
       "           Channel 2    1917\n",
       "           Channel 3    1917\n",
       "           Channel 4    1917\n",
       "           Channel 5    1917\n",
       "dtype: int64"
      ]
     },
     "execution_count": 8,
     "metadata": {},
     "output_type": "execute_result"
    }
   ],
   "source": [
    "df.value_counts(['Product', 'Channel'])"
   ]
  },
  {
   "cell_type": "code",
   "execution_count": null,
   "id": "215155fe",
   "metadata": {},
   "outputs": [],
   "source": []
  }
 ],
 "metadata": {
  "kernelspec": {
   "display_name": "Python [conda env:pycaret3]",
   "language": "python",
   "name": "conda-env-pycaret3-py"
  },
  "language_info": {
   "codemirror_mode": {
    "name": "ipython",
    "version": 3
   },
   "file_extension": ".py",
   "mimetype": "text/x-python",
   "name": "python",
   "nbconvert_exporter": "python",
   "pygments_lexer": "ipython3",
   "version": "3.8.18"
  }
 },
 "nbformat": 4,
 "nbformat_minor": 5
}
