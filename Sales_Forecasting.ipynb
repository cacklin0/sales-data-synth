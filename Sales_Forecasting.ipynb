{
 "cells": [
  {
   "cell_type": "markdown",
   "id": "3e010a3f",
   "metadata": {},
   "source": [
    "# Sales Data Analysis\n",
    "\n",
    "The dataset provided contains synthetically generated sales data for two unique products sold through two different sales channels over a period of several years. The goal of this task is to analyze the sales data, identify patterns and seasonality, and develop forecasting models to predict future sales.\n",
    "\n",
    "### Assumptions:\n",
    "- The dataset includes information about the product, sales channel, date, and units sold.\n",
    "- Products are updated each year, and the competitive landscape for products and channels changes on January 1 of each year, potentially affecting sales patterns.\n",
    "- Holidays and other special events have not been considered when creating this dataset.\n",
    "\n",
    "### Tasks:\n",
    "1. Forecasting: Use an appropriate method of your choosing to forecast future sales for each product and sales channel for the remainder of 2024.\n",
    "2. Visualization: Present analysis / forecasts in a clear and concise manner, using appropriate visualizations and explanations. \n",
    "3. Discuss the potential business implications of your results.\n"
   ]
  },
  {
   "cell_type": "code",
   "execution_count": 1,
   "id": "c8daa14f",
   "metadata": {},
   "outputs": [
    {
     "name": "stdout",
     "output_type": "stream",
     "text": [
      "        Product    Channel sales_date  sales\n",
      "2782  Product A  Channel 2    5/15/21    434\n",
      "7335  Product B  Channel 2     5/4/23   4334\n",
      "6929  Product B  Channel 2    3/24/22   4027\n",
      "755   Product A  Channel 1    1/25/21   3677\n",
      "6574  Product B  Channel 2     4/3/21    801\n"
     ]
    }
   ],
   "source": [
    "import pandas as pd\n",
    "\n",
    "url = 'https://raw.githubusercontent.com/cacklin0/sales-data-synth/main/TimeSeriesSalesData.csv'\n",
    "df = pd.read_csv(url)\n",
    "print(df.sample(5))"
   ]
  },
  {
   "cell_type": "code",
   "execution_count": 2,
   "id": "e7861a80",
   "metadata": {},
   "outputs": [
    {
     "data": {
      "text/plain": [
       "Product    Channel  \n",
       "Product A  Channel 1    1917\n",
       "           Channel 2    1917\n",
       "Product B  Channel 1    1917\n",
       "           Channel 2    1917\n",
       "Name: count, dtype: int64"
      ]
     },
     "execution_count": 2,
     "metadata": {},
     "output_type": "execute_result"
    }
   ],
   "source": [
    "df.value_counts(['Product', 'Channel'])"
   ]
  },
  {
   "cell_type": "code",
   "execution_count": 3,
   "id": "f8ac01f6",
   "metadata": {},
   "outputs": [
    {
     "data": {
      "text/plain": [
       "Index(['Product', 'Channel', 'sales_date', 'sales'], dtype='object')"
      ]
     },
     "execution_count": 3,
     "metadata": {},
     "output_type": "execute_result"
    }
   ],
   "source": [
    "df.columns"
   ]
  },
  {
   "cell_type": "code",
   "execution_count": null,
   "id": "bde4e793",
   "metadata": {},
   "outputs": [],
   "source": []
  }
 ],
 "metadata": {
  "kernelspec": {
   "display_name": "Python 3 (ipykernel)",
   "language": "python",
   "name": "python3"
  },
  "language_info": {
   "codemirror_mode": {
    "name": "ipython",
    "version": 3
   },
   "file_extension": ".py",
   "mimetype": "text/x-python",
   "name": "python",
   "nbconvert_exporter": "python",
   "pygments_lexer": "ipython3",
   "version": "3.10.12"
  }
 },
 "nbformat": 4,
 "nbformat_minor": 5
}
